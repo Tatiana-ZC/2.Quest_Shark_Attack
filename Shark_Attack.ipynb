{
 "cells": [
  {
   "cell_type": "code",
   "execution_count": 3,
   "metadata": {},
   "outputs": [
    {
     "name": "stdout",
     "output_type": "stream",
     "text": [
      "Requirement already satisfied: pandas in c:\\users\\tatyzc\\anaconda3\\envs\\intro.anaconda\\lib\\site-packages (2.2.1)\n",
      "Requirement already satisfied: numpy<2,>=1.26.0 in c:\\users\\tatyzc\\anaconda3\\envs\\intro.anaconda\\lib\\site-packages (from pandas) (1.26.4)\n",
      "Requirement already satisfied: python-dateutil>=2.8.2 in c:\\users\\tatyzc\\anaconda3\\envs\\intro.anaconda\\lib\\site-packages (from pandas) (2.9.0.post0)\n",
      "Requirement already satisfied: pytz>=2020.1 in c:\\users\\tatyzc\\anaconda3\\envs\\intro.anaconda\\lib\\site-packages (from pandas) (2024.1)\n",
      "Requirement already satisfied: tzdata>=2022.7 in c:\\users\\tatyzc\\anaconda3\\envs\\intro.anaconda\\lib\\site-packages (from pandas) (2023.3)\n",
      "Requirement already satisfied: six>=1.5 in c:\\users\\tatyzc\\anaconda3\\envs\\intro.anaconda\\lib\\site-packages (from python-dateutil>=2.8.2->pandas) (1.16.0)\n"
     ]
    }
   ],
   "source": [
    "!pip install pandas"
   ]
  },
  {
   "cell_type": "code",
   "execution_count": 1,
   "metadata": {},
   "outputs": [],
   "source": [
    "import pandas as pd"
   ]
  },
  {
   "cell_type": "code",
   "execution_count": 2,
   "metadata": {},
   "outputs": [
    {
     "name": "stdout",
     "output_type": "stream",
     "text": [
      "Requirement already satisfied: xlrd in c:\\users\\tatyzc\\anaconda3\\lib\\site-packages (2.0.1)\n"
     ]
    }
   ],
   "source": [
    "\n",
    "\n",
    "!pip install xlrd\n"
   ]
  },
  {
   "cell_type": "code",
   "execution_count": 3,
   "metadata": {},
   "outputs": [],
   "source": [
    "sharks = pd.read_excel(\"GSAF5.xlxs\")"
   ]
  },
  {
   "cell_type": "code",
   "execution_count": 5,
   "metadata": {},
   "outputs": [
    {
     "name": "stdout",
     "output_type": "stream",
     "text": [
      "<class 'pandas.core.frame.DataFrame'>\n",
      "RangeIndex: 6969 entries, 0 to 6968\n",
      "Data columns (total 23 columns):\n",
      " #   Column          Non-Null Count  Dtype  \n",
      "---  ------          --------------  -----  \n",
      " 0   Date            6944 non-null   object \n",
      " 1   Year            6942 non-null   float64\n",
      " 2   Type            6926 non-null   object \n",
      " 3   Country         6894 non-null   object \n",
      " 4   State           6462 non-null   object \n",
      " 5   Location        6379 non-null   object \n",
      " 6   Activity        6358 non-null   object \n",
      " 7   Name            6724 non-null   object \n",
      " 8   Sex             6365 non-null   object \n",
      " 9   Age             3950 non-null   object \n",
      " 10  Injury          6909 non-null   object \n",
      " 11  Unnamed: 11     6382 non-null   object \n",
      " 12  Time            3418 non-null   object \n",
      " 13  Species         3812 non-null   object \n",
      " 14  Source          6925 non-null   object \n",
      " 15  pdf             6799 non-null   object \n",
      " 16  href formula    6819 non-null   object \n",
      " 17  href            6796 non-null   object \n",
      " 18  Case Number     6798 non-null   object \n",
      " 19  Case Number.1   6797 non-null   object \n",
      " 20  original order  6799 non-null   float64\n",
      " 21  Unnamed: 21     1 non-null      object \n",
      " 22  Unnamed: 22     2 non-null      object \n",
      "dtypes: float64(2), object(21)\n",
      "memory usage: 1.2+ MB\n"
     ]
    }
   ],
   "source": [
    "sharks.info()"
   ]
  },
  {
   "cell_type": "code",
   "execution_count": 6,
   "metadata": {},
   "outputs": [
    {
     "data": {
      "text/plain": [
       "(6969, 23)"
      ]
     },
     "execution_count": 6,
     "metadata": {},
     "output_type": "execute_result"
    }
   ],
   "source": [
    "sharks.shape"
   ]
  },
  {
   "cell_type": "code",
   "execution_count": 8,
   "metadata": {},
   "outputs": [
    {
     "data": {
      "text/html": [
       "<div>\n",
       "<style scoped>\n",
       "    .dataframe tbody tr th:only-of-type {\n",
       "        vertical-align: middle;\n",
       "    }\n",
       "\n",
       "    .dataframe tbody tr th {\n",
       "        vertical-align: top;\n",
       "    }\n",
       "\n",
       "    .dataframe thead th {\n",
       "        text-align: right;\n",
       "    }\n",
       "</style>\n",
       "<table border=\"1\" class=\"dataframe\">\n",
       "  <thead>\n",
       "    <tr style=\"text-align: right;\">\n",
       "      <th></th>\n",
       "      <th>Date</th>\n",
       "      <th>Year</th>\n",
       "      <th>Type</th>\n",
       "      <th>Country</th>\n",
       "      <th>State</th>\n",
       "      <th>Location</th>\n",
       "      <th>Activity</th>\n",
       "      <th>Name</th>\n",
       "      <th>Sex</th>\n",
       "      <th>Age</th>\n",
       "      <th>...</th>\n",
       "      <th>Species</th>\n",
       "      <th>Source</th>\n",
       "      <th>pdf</th>\n",
       "      <th>href formula</th>\n",
       "      <th>href</th>\n",
       "      <th>Case Number</th>\n",
       "      <th>Case Number.1</th>\n",
       "      <th>original order</th>\n",
       "      <th>Unnamed: 21</th>\n",
       "      <th>Unnamed: 22</th>\n",
       "    </tr>\n",
       "  </thead>\n",
       "  <tbody>\n",
       "    <tr>\n",
       "      <th>0</th>\n",
       "      <td>15 Mar 2024</td>\n",
       "      <td>2024.0</td>\n",
       "      <td>Unprovoked</td>\n",
       "      <td>AUSTRALIA</td>\n",
       "      <td>Queensland</td>\n",
       "      <td>Bargara Beach</td>\n",
       "      <td>Swimming</td>\n",
       "      <td>Brooklyn Sauer</td>\n",
       "      <td>F</td>\n",
       "      <td>13</td>\n",
       "      <td>...</td>\n",
       "      <td>Tiger shark</td>\n",
       "      <td>Yahoo News, 3/15/2024</td>\n",
       "      <td>NaN</td>\n",
       "      <td>NaN</td>\n",
       "      <td>NaN</td>\n",
       "      <td>NaN</td>\n",
       "      <td>NaN</td>\n",
       "      <td>NaN</td>\n",
       "      <td>NaN</td>\n",
       "      <td>NaN</td>\n",
       "    </tr>\n",
       "    <tr>\n",
       "      <th>1</th>\n",
       "      <td>04 Mar 2024</td>\n",
       "      <td>2024.0</td>\n",
       "      <td>Unprovoked</td>\n",
       "      <td>USA</td>\n",
       "      <td>Hawaii</td>\n",
       "      <td>Old Man's, Waikiki</td>\n",
       "      <td>Surfing</td>\n",
       "      <td>Matthew White</td>\n",
       "      <td>M</td>\n",
       "      <td>NaN</td>\n",
       "      <td>...</td>\n",
       "      <td>Tiger shark 8'</td>\n",
       "      <td>Surfer, 3/6/2024F</td>\n",
       "      <td>NaN</td>\n",
       "      <td>NaN</td>\n",
       "      <td>NaN</td>\n",
       "      <td>NaN</td>\n",
       "      <td>NaN</td>\n",
       "      <td>NaN</td>\n",
       "      <td>NaN</td>\n",
       "      <td>NaN</td>\n",
       "    </tr>\n",
       "    <tr>\n",
       "      <th>2</th>\n",
       "      <td>02 Mar-2024</td>\n",
       "      <td>2024.0</td>\n",
       "      <td>Unprovoked</td>\n",
       "      <td>USA</td>\n",
       "      <td>Hawaii</td>\n",
       "      <td>Rainbows, Oahu</td>\n",
       "      <td>Swimming</td>\n",
       "      <td>NaN</td>\n",
       "      <td>F</td>\n",
       "      <td>11</td>\n",
       "      <td>...</td>\n",
       "      <td>3' to 4' shark</td>\n",
       "      <td>Hawaii News Now, 3/4/2024</td>\n",
       "      <td>NaN</td>\n",
       "      <td>NaN</td>\n",
       "      <td>NaN</td>\n",
       "      <td>NaN</td>\n",
       "      <td>NaN</td>\n",
       "      <td>NaN</td>\n",
       "      <td>NaN</td>\n",
       "      <td>NaN</td>\n",
       "    </tr>\n",
       "    <tr>\n",
       "      <th>3</th>\n",
       "      <td>25 Feb-2024</td>\n",
       "      <td>2024.0</td>\n",
       "      <td>Unprovoked</td>\n",
       "      <td>AUSTRALIA</td>\n",
       "      <td>Western Australia</td>\n",
       "      <td>Sandlnd Island, Jurian Bay</td>\n",
       "      <td>NaN</td>\n",
       "      <td>female</td>\n",
       "      <td>F</td>\n",
       "      <td>46</td>\n",
       "      <td>...</td>\n",
       "      <td>Tiger shark</td>\n",
       "      <td>WA Today, 2/26/2024</td>\n",
       "      <td>NaN</td>\n",
       "      <td>NaN</td>\n",
       "      <td>NaN</td>\n",
       "      <td>NaN</td>\n",
       "      <td>NaN</td>\n",
       "      <td>NaN</td>\n",
       "      <td>NaN</td>\n",
       "      <td>NaN</td>\n",
       "    </tr>\n",
       "    <tr>\n",
       "      <th>4</th>\n",
       "      <td>14 Feb-2024</td>\n",
       "      <td>2024.0</td>\n",
       "      <td>Unprovoked</td>\n",
       "      <td>INDIA</td>\n",
       "      <td>Maharashtra</td>\n",
       "      <td>Vaitarna River, Palghar District</td>\n",
       "      <td>Fishing</td>\n",
       "      <td>Vicky Suresh Govari</td>\n",
       "      <td>M</td>\n",
       "      <td>32</td>\n",
       "      <td>...</td>\n",
       "      <td>Bull shark, 7'</td>\n",
       "      <td>Times of India, 2/14/2024</td>\n",
       "      <td>NaN</td>\n",
       "      <td>NaN</td>\n",
       "      <td>NaN</td>\n",
       "      <td>NaN</td>\n",
       "      <td>NaN</td>\n",
       "      <td>NaN</td>\n",
       "      <td>NaN</td>\n",
       "      <td>NaN</td>\n",
       "    </tr>\n",
       "  </tbody>\n",
       "</table>\n",
       "<p>5 rows × 23 columns</p>\n",
       "</div>"
      ],
      "text/plain": [
       "          Date    Year        Type    Country              State  \\\n",
       "0  15 Mar 2024  2024.0  Unprovoked  AUSTRALIA         Queensland   \n",
       "1  04 Mar 2024  2024.0  Unprovoked        USA             Hawaii   \n",
       "2  02 Mar-2024  2024.0  Unprovoked        USA             Hawaii   \n",
       "3  25 Feb-2024  2024.0  Unprovoked  AUSTRALIA  Western Australia   \n",
       "4  14 Feb-2024  2024.0  Unprovoked      INDIA        Maharashtra   \n",
       "\n",
       "                           Location  Activity                 Name Sex  Age  \\\n",
       "0                     Bargara Beach  Swimming       Brooklyn Sauer   F   13   \n",
       "1                Old Man's, Waikiki   Surfing        Matthew White   M  NaN   \n",
       "2                    Rainbows, Oahu  Swimming                  NaN   F   11   \n",
       "3        Sandlnd Island, Jurian Bay       NaN               female   F   46   \n",
       "4  Vaitarna River, Palghar District   Fishing  Vicky Suresh Govari   M   32   \n",
       "\n",
       "   ...        Species                      Source  pdf href formula href  \\\n",
       "0  ...     Tiger shark      Yahoo News, 3/15/2024  NaN          NaN  NaN   \n",
       "1  ...  Tiger shark 8'          Surfer, 3/6/2024F  NaN          NaN  NaN   \n",
       "2  ...  3' to 4' shark  Hawaii News Now, 3/4/2024  NaN          NaN  NaN   \n",
       "3  ...     Tiger shark        WA Today, 2/26/2024  NaN          NaN  NaN   \n",
       "4  ...  Bull shark, 7'  Times of India, 2/14/2024  NaN          NaN  NaN   \n",
       "\n",
       "  Case Number Case Number.1 original order Unnamed: 21 Unnamed: 22  \n",
       "0         NaN           NaN            NaN         NaN         NaN  \n",
       "1         NaN           NaN            NaN         NaN         NaN  \n",
       "2         NaN           NaN            NaN         NaN         NaN  \n",
       "3         NaN           NaN            NaN         NaN         NaN  \n",
       "4         NaN           NaN            NaN         NaN         NaN  \n",
       "\n",
       "[5 rows x 23 columns]"
      ]
     },
     "execution_count": 8,
     "metadata": {},
     "output_type": "execute_result"
    }
   ],
   "source": [
    "sharks.head()"
   ]
  },
  {
   "cell_type": "code",
   "execution_count": 9,
   "metadata": {},
   "outputs": [
    {
     "data": {
      "text/plain": [
       "<bound method NDFrame.tail of              Date    Year        Type    Country              State  \\\n",
       "0     15 Mar 2024  2024.0  Unprovoked  AUSTRALIA         Queensland   \n",
       "1     04 Mar 2024  2024.0  Unprovoked        USA             Hawaii   \n",
       "2     02 Mar-2024  2024.0  Unprovoked        USA             Hawaii   \n",
       "3     25 Feb-2024  2024.0  Unprovoked  AUSTRALIA  Western Australia   \n",
       "4     14 Feb-2024  2024.0  Unprovoked      INDIA        Maharashtra   \n",
       "...           ...     ...         ...        ...                ...   \n",
       "6964          NaN     NaN         NaN        NaN                NaN   \n",
       "6965          NaN     NaN         NaN        NaN                NaN   \n",
       "6966          NaN     NaN         NaN        NaN                NaN   \n",
       "6967          NaN     NaN         NaN        NaN                NaN   \n",
       "6968          NaN     NaN         NaN        NaN                NaN   \n",
       "\n",
       "                              Location  Activity                 Name  Sex  \\\n",
       "0                        Bargara Beach  Swimming       Brooklyn Sauer    F   \n",
       "1                   Old Man's, Waikiki   Surfing        Matthew White    M   \n",
       "2                       Rainbows, Oahu  Swimming                  NaN    F   \n",
       "3           Sandlnd Island, Jurian Bay       NaN               female    F   \n",
       "4     Vaitarna River, Palghar District   Fishing  Vicky Suresh Govari    M   \n",
       "...                                ...       ...                  ...  ...   \n",
       "6964                               NaN       NaN                  NaN  NaN   \n",
       "6965                               NaN       NaN                  NaN  NaN   \n",
       "6966                               NaN       NaN                  NaN  NaN   \n",
       "6967                               NaN       NaN                  NaN  NaN   \n",
       "6968                               NaN       NaN                  NaN  NaN   \n",
       "\n",
       "      Age  ...        Species                      Source  pdf  \\\n",
       "0      13  ...     Tiger shark      Yahoo News, 3/15/2024  NaN   \n",
       "1     NaN  ...  Tiger shark 8'          Surfer, 3/6/2024F  NaN   \n",
       "2      11  ...  3' to 4' shark  Hawaii News Now, 3/4/2024  NaN   \n",
       "3      46  ...     Tiger shark        WA Today, 2/26/2024  NaN   \n",
       "4      32  ...  Bull shark, 7'  Times of India, 2/14/2024  NaN   \n",
       "...   ...  ...             ...                        ...  ...   \n",
       "6964  NaN  ...             NaN                        NaN  NaN   \n",
       "6965  NaN  ...             NaN                        NaN  NaN   \n",
       "6966  NaN  ...             NaN                        NaN  NaN   \n",
       "6967  NaN  ...             NaN                        NaN  NaN   \n",
       "6968  NaN  ...             NaN                        NaN  NaN   \n",
       "\n",
       "                                           href formula href Case Number  \\\n",
       "0                                                   NaN  NaN         NaN   \n",
       "1                                                   NaN  NaN         NaN   \n",
       "2                                                   NaN  NaN         NaN   \n",
       "3                                                   NaN  NaN         NaN   \n",
       "4                                                   NaN  NaN         NaN   \n",
       "...                                                 ...  ...         ...   \n",
       "6964  http://sharkattackfile.net/spreadsheets/pdf_di...  NaN         NaN   \n",
       "6965  http://sharkattackfile.net/spreadsheets/pdf_di...  NaN         NaN   \n",
       "6966  http://sharkattackfile.net/spreadsheets/pdf_di...  NaN         NaN   \n",
       "6967  http://sharkattackfile.net/spreadsheets/pdf_di...  NaN         NaN   \n",
       "6968  http://sharkattackfile.net/spreadsheets/pdf_di...  NaN         NaN   \n",
       "\n",
       "     Case Number.1 original order Unnamed: 21 Unnamed: 22  \n",
       "0              NaN            NaN         NaN         NaN  \n",
       "1              NaN            NaN         NaN         NaN  \n",
       "2              NaN            NaN         NaN         NaN  \n",
       "3              NaN            NaN         NaN         NaN  \n",
       "4              NaN            NaN         NaN         NaN  \n",
       "...            ...            ...         ...         ...  \n",
       "6964           NaN            NaN         NaN         NaN  \n",
       "6965           NaN            NaN         NaN         NaN  \n",
       "6966           NaN            NaN         NaN         NaN  \n",
       "6967           NaN            NaN         NaN         NaN  \n",
       "6968           NaN            NaN         NaN         NaN  \n",
       "\n",
       "[6969 rows x 23 columns]>"
      ]
     },
     "execution_count": 9,
     "metadata": {},
     "output_type": "execute_result"
    }
   ],
   "source": [
    "sharks.tail"
   ]
  },
  {
   "cell_type": "code",
   "execution_count": 10,
   "metadata": {},
   "outputs": [
    {
     "data": {
      "text/html": [
       "<div>\n",
       "<style scoped>\n",
       "    .dataframe tbody tr th:only-of-type {\n",
       "        vertical-align: middle;\n",
       "    }\n",
       "\n",
       "    .dataframe tbody tr th {\n",
       "        vertical-align: top;\n",
       "    }\n",
       "\n",
       "    .dataframe thead th {\n",
       "        text-align: right;\n",
       "    }\n",
       "</style>\n",
       "<table border=\"1\" class=\"dataframe\">\n",
       "  <thead>\n",
       "    <tr style=\"text-align: right;\">\n",
       "      <th></th>\n",
       "      <th>Date</th>\n",
       "      <th>Year</th>\n",
       "      <th>Type</th>\n",
       "      <th>Country</th>\n",
       "      <th>State</th>\n",
       "      <th>Location</th>\n",
       "      <th>Activity</th>\n",
       "      <th>Name</th>\n",
       "      <th>Sex</th>\n",
       "      <th>Age</th>\n",
       "      <th>...</th>\n",
       "      <th>Species</th>\n",
       "      <th>Source</th>\n",
       "      <th>pdf</th>\n",
       "      <th>href formula</th>\n",
       "      <th>href</th>\n",
       "      <th>Case Number</th>\n",
       "      <th>Case Number.1</th>\n",
       "      <th>original order</th>\n",
       "      <th>Unnamed: 21</th>\n",
       "      <th>Unnamed: 22</th>\n",
       "    </tr>\n",
       "  </thead>\n",
       "  <tbody>\n",
       "    <tr>\n",
       "      <th>2459</th>\n",
       "      <td>10-Jul-2002</td>\n",
       "      <td>2002.0</td>\n",
       "      <td>Unprovoked</td>\n",
       "      <td>BRAZIL</td>\n",
       "      <td>Pernambuco</td>\n",
       "      <td>Piedade Beach, Recife</td>\n",
       "      <td>Surfing</td>\n",
       "      <td>Mário César Carneiro da Silva</td>\n",
       "      <td>M</td>\n",
       "      <td>22</td>\n",
       "      <td>...</td>\n",
       "      <td>Bull or tiger shark</td>\n",
       "      <td>P.M. Lopes, GSAF</td>\n",
       "      <td>2002.07.09.a-daSilva.pdf</td>\n",
       "      <td>http://sharkattackfile.net/spreadsheets/pdf_di...</td>\n",
       "      <td>http://sharkattackfile.net/spreadsheets/pdf_di...</td>\n",
       "      <td>2002.07.09.a</td>\n",
       "      <td>2002.07.09.a</td>\n",
       "      <td>4483.0</td>\n",
       "      <td>NaN</td>\n",
       "      <td>NaN</td>\n",
       "    </tr>\n",
       "  </tbody>\n",
       "</table>\n",
       "<p>1 rows × 23 columns</p>\n",
       "</div>"
      ],
      "text/plain": [
       "             Date    Year        Type Country       State  \\\n",
       "2459  10-Jul-2002  2002.0  Unprovoked  BRAZIL  Pernambuco   \n",
       "\n",
       "                   Location Activity                           Name Sex Age  \\\n",
       "2459  Piedade Beach, Recife  Surfing  Mário César Carneiro da Silva   M  22   \n",
       "\n",
       "      ...             Species             Source                       pdf  \\\n",
       "2459  ...  Bull or tiger shark  P.M. Lopes, GSAF  2002.07.09.a-daSilva.pdf   \n",
       "\n",
       "                                           href formula  \\\n",
       "2459  http://sharkattackfile.net/spreadsheets/pdf_di...   \n",
       "\n",
       "                                                   href   Case Number  \\\n",
       "2459  http://sharkattackfile.net/spreadsheets/pdf_di...  2002.07.09.a   \n",
       "\n",
       "     Case Number.1 original order Unnamed: 21 Unnamed: 22  \n",
       "2459  2002.07.09.a         4483.0         NaN         NaN  \n",
       "\n",
       "[1 rows x 23 columns]"
      ]
     },
     "execution_count": 10,
     "metadata": {},
     "output_type": "execute_result"
    }
   ],
   "source": [
    "sharks.sample()"
   ]
  },
  {
   "cell_type": "code",
   "execution_count": 11,
   "metadata": {},
   "outputs": [
    {
     "data": {
      "text/plain": [
       "Country\n",
       "USA                   2538\n",
       "AUSTRALIA             1481\n",
       "SOUTH AFRICA           597\n",
       "NEW ZEALAND            144\n",
       "BAHAMAS                136\n",
       "                      ... \n",
       "PUERTO RICO              1\n",
       "RED SEA                  1\n",
       "Coral Sea                1\n",
       "BRITISH ISLES            1\n",
       "CEYLON (SRI LANKA)       1\n",
       "Name: count, Length: 225, dtype: int64"
      ]
     },
     "execution_count": 11,
     "metadata": {},
     "output_type": "execute_result"
    }
   ],
   "source": [
    "sharks['Country'].value_counts()"
   ]
  },
  {
   "cell_type": "code",
   "execution_count": 17,
   "metadata": {},
   "outputs": [
    {
     "data": {
      "text/plain": [
       "State\n",
       "Florida                1178\n",
       "New South Wales         521\n",
       "Queensland              347\n",
       "Hawaii                  341\n",
       "California              323\n",
       "                       ... \n",
       "Shizuoka Prefecture       1\n",
       "Brindisi Province         1\n",
       "Kagawa Prefecture         1\n",
       " Upolu Island             1\n",
       "Moala Island              1\n",
       "Name: count, Length: 902, dtype: int64"
      ]
     },
     "execution_count": 17,
     "metadata": {},
     "output_type": "execute_result"
    }
   ],
   "source": [
    "sharks['State'].value_counts()"
   ]
  },
  {
   "cell_type": "code",
   "execution_count": 20,
   "metadata": {},
   "outputs": [
    {
     "data": {
      "text/plain": [
       "Location\n",
       "New Smyrna Beach, Volusia County                            191\n",
       "Daytona Beach, Volusia County                                31\n",
       "Ponce Inlet, Volusia County                                  28\n",
       "Myrtle Beach, Horry County                                   22\n",
       "Melbourne Beach, Brevard County                              20\n",
       "                                                           ... \n",
       "Limay                                                         1\n",
       "Pau Amarelo Beach, Paulista District (17 km from Recife)      1\n",
       "Melbourne Beach, Brevard County                               1\n",
       "Shepard Park, Cocoa Beach, Brevard County                     1\n",
       "Below the English fort, Trincomalee                           1\n",
       "Name: count, Length: 4514, dtype: int64"
      ]
     },
     "execution_count": 20,
     "metadata": {},
     "output_type": "execute_result"
    }
   ],
   "source": [
    "sharks['Location'].value_counts()"
   ]
  },
  {
   "cell_type": "code",
   "execution_count": 21,
   "metadata": {},
   "outputs": [
    {
     "data": {
      "text/plain": [
       "Year\n",
       "2015.0    143\n",
       "2017.0    139\n",
       "2016.0    131\n",
       "0.0       129\n",
       "2011.0    128\n",
       "         ... \n",
       "1784.0      1\n",
       "1783.0      1\n",
       "1780.0      1\n",
       "1779.0      1\n",
       "1819.0      1\n",
       "Name: count, Length: 259, dtype: int64"
      ]
     },
     "execution_count": 21,
     "metadata": {},
     "output_type": "execute_result"
    }
   ],
   "source": [
    "sharks['Year'].value_counts()"
   ]
  },
  {
   "cell_type": "code",
   "execution_count": 22,
   "metadata": {},
   "outputs": [
    {
     "data": {
      "text/plain": [
       "Type\n",
       "Unprovoked             5107\n",
       "Provoked                635\n",
       "Invalid                 552\n",
       "Watercraft              355\n",
       "Sea Disaster            242\n",
       "Questionable             22\n",
       "Boat                      7\n",
       " Provoked                 2\n",
       "?                         1\n",
       "Unconfirmed               1\n",
       "Unverified                1\n",
       "Under investigation       1\n",
       "Name: count, dtype: int64"
      ]
     },
     "execution_count": 22,
     "metadata": {},
     "output_type": "execute_result"
    }
   ],
   "source": [
    "sharks['Type'].value_counts()"
   ]
  },
  {
   "cell_type": "code",
   "execution_count": 23,
   "metadata": {},
   "outputs": [
    {
     "data": {
      "text/plain": [
       "Activity\n",
       "Surfing                                                        1121\n",
       "Swimming                                                        976\n",
       "Fishing                                                         488\n",
       "Spearfishing                                                    382\n",
       "Wading                                                          174\n",
       "                                                               ... \n",
       "Fishing boat swamped in a storm                                   1\n",
       "Free diving (but on surface)                                      1\n",
       "Adrift after the sinking of the motor yacht Princess Dianne       1\n",
       "Free diving for abalone (submerged)                               1\n",
       "Wreck of  large double sailing canoe                              1\n",
       "Name: count, Length: 1587, dtype: int64"
      ]
     },
     "execution_count": 23,
     "metadata": {},
     "output_type": "execute_result"
    }
   ],
   "source": [
    "sharks['Activity'].value_counts()"
   ]
  },
  {
   "cell_type": "code",
   "execution_count": 24,
   "metadata": {},
   "outputs": [
    {
     "data": {
      "text/plain": [
       "Name\n",
       "male                680\n",
       "female              136\n",
       "boy                  23\n",
       "2 males              17\n",
       "boat                 14\n",
       "                   ... \n",
       "John McGovern         1\n",
       "Martin Gunda          1\n",
       "Joseph Krone          1\n",
       "Deborah Franzman      1\n",
       "Jules Patterson       1\n",
       "Name: count, Length: 5683, dtype: int64"
      ]
     },
     "execution_count": 24,
     "metadata": {},
     "output_type": "execute_result"
    }
   ],
   "source": [
    "sharks['Name'].value_counts()"
   ]
  },
  {
   "cell_type": "code",
   "execution_count": 25,
   "metadata": {},
   "outputs": [
    {
     "data": {
      "text/plain": [
       "Sex\n",
       "M        5578\n",
       "F         779\n",
       "M           2\n",
       "N           2\n",
       " M          1\n",
       "lli         1\n",
       "M x 2       1\n",
       ".           1\n",
       "Name: count, dtype: int64"
      ]
     },
     "execution_count": 25,
     "metadata": {},
     "output_type": "execute_result"
    }
   ],
   "source": [
    "sharks['Sex'].value_counts()"
   ]
  },
  {
   "cell_type": "code",
   "execution_count": 26,
   "metadata": {},
   "outputs": [
    {
     "data": {
      "text/plain": [
       "Age\n",
       "19          89\n",
       "16          89\n",
       "17          88\n",
       "17          85\n",
       "15          84\n",
       "            ..\n",
       "84           1\n",
       "36 & 26      1\n",
       "77           1\n",
       "Teens        1\n",
       "13 or 14     1\n",
       "Name: count, Length: 243, dtype: int64"
      ]
     },
     "execution_count": 26,
     "metadata": {},
     "output_type": "execute_result"
    }
   ],
   "source": [
    "sharks['Age'].value_counts()"
   ]
  },
  {
   "cell_type": "code",
   "execution_count": 27,
   "metadata": {},
   "outputs": [
    {
     "data": {
      "text/plain": [
       "Injury\n",
       "FATAL                                                                              863\n",
       "Foot bitten                                                                        100\n",
       "Survived                                                                            97\n",
       "No injury                                                                           85\n",
       "Leg bitten                                                                          81\n",
       "                                                                                  ... \n",
       "Right calf & heel bitten                                                             1\n",
       "Multiple bites to foot after jumping off surfboard onto shark PROVOKED INCIDENT      1\n",
       "Shallow  lacerations to left  thigh PROVOKED INCIDENT                                1\n",
       "Bitten on finger                                                                     1\n",
       "FATAL. \"Shark bit him in half, carrying away the lower extremities\"                  1\n",
       "Name: count, Length: 4079, dtype: int64"
      ]
     },
     "execution_count": 27,
     "metadata": {},
     "output_type": "execute_result"
    }
   ],
   "source": [
    "sharks['Injury'].value_counts()"
   ]
  },
  {
   "cell_type": "code",
   "execution_count": 29,
   "metadata": {},
   "outputs": [
    {
     "data": {
      "text/plain": [
       "Unnamed: 11\n",
       "N          4832\n",
       "Y          1460\n",
       "UNKNOWN      71\n",
       " N            7\n",
       "M             3\n",
       "F             3\n",
       "n             1\n",
       "Nq            1\n",
       "2017          1\n",
       "Y x 2         1\n",
       "N             1\n",
       "y             1\n",
       "Name: count, dtype: int64"
      ]
     },
     "execution_count": 29,
     "metadata": {},
     "output_type": "execute_result"
    }
   ],
   "source": [
    "sharks['Unnamed: 11'].value_counts()"
   ]
  },
  {
   "cell_type": "code",
   "execution_count": 31,
   "metadata": {},
   "outputs": [
    {
     "data": {
      "text/plain": [
       "Time\n",
       "Afternoon       215\n",
       "11h00           140\n",
       "Morning         135\n",
       "15h00           127\n",
       "16h00           123\n",
       "               ... \n",
       "10h27             1\n",
       "10h16             1\n",
       "14h09             1\n",
       "Before 07h00      1\n",
       "19h00-20h00       1\n",
       "Name: count, Length: 410, dtype: int64"
      ]
     },
     "execution_count": 31,
     "metadata": {},
     "output_type": "execute_result"
    }
   ],
   "source": [
    "sharks['Time'].value_counts()"
   ]
  },
  {
   "cell_type": "code",
   "execution_count": 34,
   "metadata": {},
   "outputs": [
    {
     "data": {
      "text/plain": [
       "Species \n",
       "White shark                                                                                                                      194\n",
       "Shark involvement prior to death was not confirmed                                                                               105\n",
       "Invalid                                                                                                                          102\n",
       "Shark involvement not confirmed                                                                                                   92\n",
       "Tiger shark                                                                                                                       89\n",
       "                                                                                                                                ... \n",
       "1.2 m to 1.8 m [4' to 6'] shark                                                                                                    1\n",
       "Grey nurse shark, 3 m female                                                                                                       1\n",
       "Porbeagle shark, 3 m [10']rk                                                                                                       1\n",
       "White shark, 4.5 m [14'9\"]                                                                                                         1\n",
       "Said to involve a grey nurse shark that leapt out of the water and  seized the boy but species identification is questionable      1\n",
       "Name: count, Length: 1675, dtype: int64"
      ]
     },
     "execution_count": 34,
     "metadata": {},
     "output_type": "execute_result"
    }
   ],
   "source": [
    "sharks['Species '].value_counts()"
   ]
  },
  {
   "cell_type": "code",
   "execution_count": 35,
   "metadata": {},
   "outputs": [
    {
     "data": {
      "text/plain": [
       "Source\n",
       "K. McMurray, TrackingSharks.com                                                                                       131\n",
       "C. Moore, GSAF                                                                                                        105\n",
       "C. Creswell, GSAF                                                                                                     101\n",
       "S. Petersohn, GSAF                                                                                                     82\n",
       "B. Myatt, GSAF                                                                                                         59\n",
       "                                                                                                                     ... \n",
       "S. Petersohn, GSAF; M. I. Johnson,  Daytona Beach News Journal, 9/19/2000, p.1A; Orlando Sentinel, 9/9/2000 , p.D2      1\n",
       "E. Matechi; A. Mbogora                                                                                                  1\n",
       "Fort Pierce Tribune, 9/12/2000                                                                                          1\n",
       "S. Petersohn, GSAF; Daytona  Beach News Journal, 9/12/2000, p.1.A; Orlando Sentinel, 9/12/2000, p.D2                    1\n",
       "S.W. Baker                                                                                                              1\n",
       "Name: count, Length: 5302, dtype: int64"
      ]
     },
     "execution_count": 35,
     "metadata": {},
     "output_type": "execute_result"
    }
   ],
   "source": [
    "sharks['Source'].value_counts()"
   ]
  }
 ],
 "metadata": {
  "kernelspec": {
   "display_name": "base",
   "language": "python",
   "name": "python3"
  },
  "language_info": {
   "codemirror_mode": {
    "name": "ipython",
    "version": 3
   },
   "file_extension": ".py",
   "mimetype": "text/x-python",
   "name": "python",
   "nbconvert_exporter": "python",
   "pygments_lexer": "ipython3",
   "version": "3.11.7"
  }
 },
 "nbformat": 4,
 "nbformat_minor": 2
}
